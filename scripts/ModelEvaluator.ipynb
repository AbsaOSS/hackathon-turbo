{
 "cells": [
  {
   "cell_type": "code",
   "execution_count": null,
   "id": "0427561f-5f45-40e7-a563-20190566b856",
   "metadata": {
    "tags": []
   },
   "outputs": [],
   "source": [
    "# Graphing function definitions\n",
    "import numpy as np\n",
    "import pandas as pd\n",
    "import altair as alt\n",
    "alt.data_transformers.disable_max_rows()\n",
    "\n",
    "GRAPH_WIDTH = 1024\n",
    "\n",
    "def _make_plot(wide_df, title):\n",
    "    melted_df = wide_df.copy().reset_index().rename(columns={\"index\":\"Tick\"}).melt(\"Tick\", var_name = \"Class\", value_name = \"Value\")\n",
    "    chart_base = alt.Chart(melted_df)\n",
    "    selector = alt.selection_point(fields=['Class'])\n",
    "    chart_selector = chart_base.mark_bar().encode(\n",
    "            y = f\"Class:N\",\n",
    "            color = alt.condition(selector, alt.Color(\"Class:N\"), alt.value(\"lightgray\"))\n",
    "        ).add_params(selector)\n",
    "    chart_plot = chart_base.mark_line().encode(\n",
    "            x = alt.X(\"Tick\"),\n",
    "            y = alt.Y(\"Value\").scale(zero=False),\n",
    "            color = alt.Color(\"Class\", legend = None),\n",
    "            tooltip = [\"Class\", \"Value\", \"Tick\"]\n",
    "        ).transform_filter(selector\n",
    "        ).properties(title = f\"{title} ({DERIVATION} Derivation)\", width = GRAPH_WIDTH\n",
    "        ).interactive()\n",
    "    chart_box = chart_base.mark_boxplot().encode(\n",
    "            x = alt.X(\"Class\"),\n",
    "            y = alt.Y(\"Value\").scale(zero=False),\n",
    "            color = alt.Color(\"Class\", legend = None),\n",
    "        ).transform_filter(selector)\n",
    "    return (chart_selector | chart_plot | chart_box).configure(background='#BBBBBB')\n",
    "    \n",
    "def direct_plot(df):\n",
    "    return _make_plot(df, \"Direct price\")\n",
    "\n",
    "def abs_delta_plot(df):\n",
    "    return _make_plot(df.diff().shift(-1), \"Price delta\")\n",
    "\n",
    "def delta_plot(df):\n",
    "    return _make_plot(100 * df.diff().shift(-1) / df, \"% Price delta\")\n",
    "\n",
    "def error_plot(df):\n",
    "    error_df = pd.DataFrame()\n",
    "    for column in df.columns:\n",
    "        error_df[column] = 100 * (df[column] - df[\"Reality\"]) / df[\"Reality\"]\n",
    "    return _make_plot(error_df, \"% error of prediction\")\n",
    "\n",
    "def cum_error_plot(df):\n",
    "    error_df = pd.DataFrame()\n",
    "    for column in df.columns:\n",
    "        error_df[column] = 100 * (df[column] - df[\"Reality\"]).cumsum() / df[\"Reality\"]\n",
    "    return _make_plot(error_df, \"Cumulative % error of prediction\")\n",
    "\n",
    "def rolling_error_plot(df, window):\n",
    "    error_df = pd.DataFrame()\n",
    "    for column in df.columns:\n",
    "        error_df[column] = 100 * (df[column] - df[\"Reality\"]).rolling(window = window).sum() / df[\"Reality\"]\n",
    "    return _make_plot(error_df, f\"Rolling [window {window}] of % error of prediction\")\n",
    "\n",
    "def abs_error_plot(df):\n",
    "    abs_error_df = pd.DataFrame()\n",
    "    for column in df.columns:\n",
    "        abs_error_df[column] = 100 * abs(df[column] - df[\"Reality\"]) / abs(df[\"Reality\"])\n",
    "    return _make_plot(abs_error_df, \"Abs of % error of prediction\")\n",
    "\n",
    "def cum_abs_error_plot(df):\n",
    "    abs_error_df = pd.DataFrame()\n",
    "    for column in df.columns:\n",
    "        abs_error_df[column] = 100 * abs(df[column] - df[\"Reality\"]).cumsum() / abs(df[\"Reality\"])\n",
    "    return _make_plot(abs_error_df, \"Cummulative abs of % error of prediction\")\n",
    "\n",
    "def rolling_abs_error_plot(df, window):\n",
    "    abs_error_df = pd.DataFrame()\n",
    "    for column in df.columns:\n",
    "        abs_error_df[column] = 100 * abs(df[column] - df[\"Reality\"]).rolling(window = window).sum() / abs(df[\"Reality\"])\n",
    "    return _make_plot(abs_error_df, f\"Rolling [window {window}] of abs of % error of prediction\")\n",
    "\n",
    "def relation_plot(df):\n",
    "    TITLE = \"Relation betwen actual value vs predicted value\"\n",
    "    melted_df = df.copy().melt(\"Reality\", var_name = \"Class\", value_name = \"Value\")\n",
    "    chart_base = alt.Chart(melted_df)\n",
    "    selector = alt.selection_point(fields=['Class'])\n",
    "    chart_selector = chart_base.mark_bar().encode(\n",
    "            y = f\"Class:N\",\n",
    "            color = alt.condition(selector, alt.Color(\"Class:N\"), alt.value(\"lightgray\"))\n",
    "        ).add_params(selector)\n",
    "    chart_plot = chart_base.mark_point().encode(\n",
    "            x = alt.X(\"Reality\").scale(zero=False),\n",
    "            y = alt.Y(\"Value\").scale(zero=False),\n",
    "            color = alt.Color(\"Class\", legend = None),\n",
    "            tooltip = [\"Class\", \"Value\", \"Reality\"]\n",
    "        ).transform_filter(selector\n",
    "        ).properties(title = TITLE, width = GRAPH_WIDTH\n",
    "        ).interactive()\n",
    "    return (chart_selector | chart_plot).configure(background='#BBBBBB')\n",
    "\n",
    "def rolling_correlation_plot(df, window):\n",
    "    df_corr = pd.DataFrame()\n",
    "    for column in df.columns:\n",
    "        df_corr[column] = df[\"Reality\"].rolling(window=window, min_periods=0).corr(df[column])\n",
    "    return _make_plot(df_corr, f\"Correlation [window {window}] of prediction to reality\")\n",
    "\n",
    "def rolling_mse_plot(df, window):\n",
    "    df_rmse = pd.DataFrame()\n",
    "    for column in df.columns:\n",
    "        df_rmse[column] = ((df[column] - df[\"Reality\"]) ** 2).rolling(window=window, min_periods=0).mean()\n",
    "    return _make_plot(df_rmse, f\"Rolling MSE [window {window}] of prediction to reality\")\n",
    "\n",
    "def rolling_rmse_plot(df, window):\n",
    "    df_rmse = pd.DataFrame()\n",
    "    for column in df.columns:\n",
    "        df_rmse[column] = ((df[column] - df[\"Reality\"]) ** 2).rolling(window=window, min_periods=0).mean() ** 0.5\n",
    "    return _make_plot(df_rmse, f\"Rolling RMSE [window {window}] of prediction to reality\")\n",
    "\n",
    "def rolling_rmsle_plot(df, window):\n",
    "    df_rmse = pd.DataFrame()\n",
    "    for column in df.columns:\n",
    "        df_rmse[column] = ((np.log10(1 + df[column]) - np.log10(1 + df[\"Reality\"])) ** 2).rolling(window=window, min_periods=0).mean() ** 0.5\n",
    "    return _make_plot(df_rmse, f\"Rolling RMSLE [window {window}] of prediction to reality\")\n",
    "\n",
    "def rolling_r_squared_plot(df, window, trim):\n",
    "    df_r_squared = pd.DataFrame()\n",
    "    for column in df.columns:\n",
    "        col_r_squared = []\n",
    "        for i in range(len(reality)):\n",
    "            window_prediction = df[column].head(i).tail(window)\n",
    "            window_reality = df[\"Reality\"].head(i).tail(window)\n",
    "            mean_reality = window_reality.mean()\n",
    "            mse_model = ((window_prediction - window_reality) ** 2).mean()\n",
    "            mse_baseline = ((mean_reality - window_reality) ** 2).mean()\n",
    "            r_squared = 1 - mse_model / mse_baseline\n",
    "            col_r_squared.append(r_squared)\n",
    "        df_r_squared[column] = col_r_squared\n",
    "    df_r_squared = df_r_squared.tail(-trim)\n",
    "    return _make_plot(df_r_squared, f\"Rolling R-Squared [window {window} - trim {trim}] of prediction to reality\")"
   ]
  },
  {
   "cell_type": "code",
   "execution_count": null,
   "id": "221717cb-b748-45d1-b826-78bb04c7a55b",
   "metadata": {
    "tags": []
   },
   "outputs": [],
   "source": [
    "# Sample model predicting functions definitions\n",
    "import random as rnd\n",
    "\n",
    "def predict_keep(reality, inflation):\n",
    "    prediction = []\n",
    "    last = 0\n",
    "    for item in reality:\n",
    "        prediction.append(last * (1+inflation))\n",
    "        last = item\n",
    "    return prediction\n",
    "\n",
    "def predict_keep_momentum(reality, momentum):\n",
    "    prediction = []\n",
    "    last = 0\n",
    "    deltas = [0] * momentum\n",
    "    for item in reality:\n",
    "        prediction.append(last + sum(deltas)/momentum)\n",
    "        deltas = deltas[1:]\n",
    "        deltas.append(last - item)\n",
    "        last = item\n",
    "    return prediction\n",
    "\n",
    "def predict_up_momentum(reality, momentum):\n",
    "    prediction = []\n",
    "    last = 0\n",
    "    deltas = [0] * momentum\n",
    "    for item in reality:\n",
    "        prediction.append(last + abs(sum(deltas)/momentum))\n",
    "        deltas = deltas[1:]\n",
    "        deltas.append(last - item)\n",
    "        last = item\n",
    "    return prediction\n",
    "\n",
    "def predict_rnd_momentum(reality, momentum):\n",
    "    prediction = []\n",
    "    last = 0\n",
    "    deltas = [0] * momentum\n",
    "    for item in reality:\n",
    "        prediction.append(last + abs(sum(deltas)/momentum) * (1 - 2*rnd.random()))\n",
    "        deltas = deltas[1:]\n",
    "        deltas.append(last - item)\n",
    "        last = item\n",
    "    return prediction\n",
    "\n",
    "def predict_random(items, min_val, max_val):\n",
    "    return [min_val + (max_val - min_val) * rnd.random() for i in range(items)]"
   ]
  },
  {
   "cell_type": "code",
   "execution_count": null,
   "id": "4a179ff5-7478-4aee-a0db-46431d637c5f",
   "metadata": {
    "tags": []
   },
   "outputs": [],
   "source": [
    "# Sample data\n",
    "# DataFrame to be wide form\n",
    "#    Reality: True value of the stock\n",
    "#    <Prediction_Name>: Value of given prediciton, to be in graphs\n",
    "TRIM = 20\n",
    "\n",
    "\n",
    "reality = pd.read_csv(\"sample_prices.csv\")[\"Adj Close\"].tolist()\n",
    "dataset = {\"Reality\": reality,\n",
    "           \"Keep\": predict_keep(reality, 0),\n",
    "           \"Inflate 0.05%\": predict_keep(reality, 0.0005),\n",
    "           \"Keep_Momentum_1\": predict_keep_momentum(reality, 1),\n",
    "           \"Keep_Momentum_3\": predict_keep_momentum(reality, 3),\n",
    "           \"Keep_Momentum_5\": predict_keep_momentum(reality, 5),\n",
    "           \"Keep_Momentum_20\": predict_keep_momentum(reality, 20),\n",
    "           \"Up_Momentum_1\": predict_up_momentum(reality, 1),\n",
    "           \"Up_Momentum_3\": predict_up_momentum(reality, 3),\n",
    "           \"Up_Momentum_5\": predict_up_momentum(reality, 5),\n",
    "           \"Up_Momentum_20\": predict_up_momentum(reality, 20),\n",
    "           \"Rnd_Momentum_1\": predict_rnd_momentum(reality, 1),\n",
    "           \"Rnd_Momentum_3\": predict_rnd_momentum(reality, 3),\n",
    "           \"Rnd_Momentum_5\": predict_rnd_momentum(reality, 5),\n",
    "           \"Rnd_Momentum_20\": predict_rnd_momentum(reality, 20),\n",
    "           \"Random\": predict_random(len(reality), min(reality), max(reality))}\n",
    "df = pd.DataFrame(dataset).tail(-TRIM)"
   ]
  },
  {
   "cell_type": "code",
   "execution_count": null,
   "id": "df84287f-bea9-4063-a9c4-79228ea0579b",
   "metadata": {},
   "outputs": [],
   "source": [
    "# Perform N-th derivation\n",
    "DERIVATION = 0\n",
    "\n",
    "for i in range(DERIVATION):\n",
    "    df = df.diff().shift(-1)"
   ]
  },
  {
   "cell_type": "code",
   "execution_count": null,
   "id": "7611800b-1e8c-48ad-8749-9d3b0e3192e6",
   "metadata": {
    "tags": []
   },
   "outputs": [],
   "source": [
    "direct_plot(df)"
   ]
  },
  {
   "cell_type": "code",
   "execution_count": null,
   "id": "24f38c18-1df2-4509-a45e-502126885986",
   "metadata": {
    "tags": []
   },
   "outputs": [],
   "source": [
    "abs_delta_plot(df)"
   ]
  },
  {
   "cell_type": "code",
   "execution_count": null,
   "id": "2dfb5d55-e9b2-4380-a11a-f08b8fd7dd03",
   "metadata": {
    "tags": []
   },
   "outputs": [],
   "source": [
    "delta_plot(df)"
   ]
  },
  {
   "cell_type": "code",
   "execution_count": null,
   "id": "9622c6ef-7553-4290-b0cc-b6e49f430ac0",
   "metadata": {
    "tags": []
   },
   "outputs": [],
   "source": [
    "error_plot(df)"
   ]
  },
  {
   "cell_type": "code",
   "execution_count": null,
   "id": "471d9da8-4d70-4424-aff2-0a1488527838",
   "metadata": {
    "tags": []
   },
   "outputs": [],
   "source": [
    "cum_error_plot(df)"
   ]
  },
  {
   "cell_type": "code",
   "execution_count": null,
   "id": "27bff5d6-bccb-4398-9b1a-67bef1bec0a1",
   "metadata": {
    "tags": []
   },
   "outputs": [],
   "source": [
    "rolling_error_plot(df, 50)"
   ]
  },
  {
   "cell_type": "code",
   "execution_count": null,
   "id": "eb51775e-6345-4c55-80f9-2cf93b74f2c6",
   "metadata": {
    "tags": []
   },
   "outputs": [],
   "source": [
    "abs_error_plot(df)"
   ]
  },
  {
   "cell_type": "code",
   "execution_count": null,
   "id": "fb1ab60b-a5aa-4753-a3d1-bb8329624de7",
   "metadata": {
    "tags": []
   },
   "outputs": [],
   "source": [
    "cum_abs_error_plot(df)"
   ]
  },
  {
   "cell_type": "code",
   "execution_count": null,
   "id": "436ebcf9-3fc9-4bdb-8d26-e7faaa75ad7c",
   "metadata": {
    "tags": []
   },
   "outputs": [],
   "source": [
    "rolling_abs_error_plot(df, 50)"
   ]
  },
  {
   "cell_type": "code",
   "execution_count": null,
   "id": "d72fd506-0e35-4b8a-8bd3-b0f970ccb985",
   "metadata": {},
   "outputs": [],
   "source": [
    "relation_plot(df)"
   ]
  },
  {
   "cell_type": "code",
   "execution_count": null,
   "id": "955bf021-2c17-4895-9f2c-f351e54214bd",
   "metadata": {
    "tags": []
   },
   "outputs": [],
   "source": [
    "rolling_correlation_plot(df, 50)"
   ]
  },
  {
   "cell_type": "code",
   "execution_count": null,
   "id": "19fb66d1-60e9-4688-9ea8-a1325fa6cab6",
   "metadata": {
    "tags": []
   },
   "outputs": [],
   "source": [
    "rolling_correlation_plot(df, 5000)"
   ]
  },
  {
   "cell_type": "code",
   "execution_count": null,
   "id": "05da3c98-5a2b-499a-9e48-3a0616f9272d",
   "metadata": {
    "tags": []
   },
   "outputs": [],
   "source": [
    "rolling_mse_plot(df, 50)"
   ]
  },
  {
   "cell_type": "code",
   "execution_count": null,
   "id": "c0757f44-c940-40ea-8182-46ef2c5bc985",
   "metadata": {
    "tags": []
   },
   "outputs": [],
   "source": [
    "rolling_mse_plot(df, 5000)"
   ]
  },
  {
   "cell_type": "code",
   "execution_count": null,
   "id": "ba66e911-9690-4656-9a90-1f1b266d4dbc",
   "metadata": {
    "tags": []
   },
   "outputs": [],
   "source": [
    "rolling_rmse_plot(df, 50)"
   ]
  },
  {
   "cell_type": "code",
   "execution_count": null,
   "id": "99a7c3cf-0073-4118-9be2-45afac7eeeb5",
   "metadata": {
    "tags": []
   },
   "outputs": [],
   "source": [
    "rolling_rmse_plot(df, 5000)"
   ]
  },
  {
   "cell_type": "code",
   "execution_count": null,
   "id": "d20f9f83-d1c0-4652-9991-661a41e8bd21",
   "metadata": {
    "tags": []
   },
   "outputs": [],
   "source": [
    "rolling_rmsle_plot(df, 50)"
   ]
  },
  {
   "cell_type": "code",
   "execution_count": null,
   "id": "65dcfa36-cf66-4a39-b4b7-f57847a96701",
   "metadata": {
    "tags": []
   },
   "outputs": [],
   "source": [
    "rolling_rmsle_plot(df, 5000)"
   ]
  },
  {
   "cell_type": "code",
   "execution_count": null,
   "id": "7f818e5f-12b7-43e4-b919-aed3a5855e4c",
   "metadata": {
    "tags": []
   },
   "outputs": [],
   "source": [
    "rolling_r_squared_plot(df, 50, 50)"
   ]
  },
  {
   "cell_type": "code",
   "execution_count": null,
   "id": "4a0d997a-9e65-4922-9427-6591758ec3c5",
   "metadata": {
    "tags": []
   },
   "outputs": [],
   "source": [
    "rolling_r_squared_plot(df, 50000, 50)"
   ]
  },
  {
   "cell_type": "code",
   "execution_count": null,
   "id": "ba0fc262-d3f1-43b6-8c2b-60bc8bbac730",
   "metadata": {},
   "outputs": [],
   "source": []
  }
 ],
 "metadata": {
  "kernelspec": {
   "display_name": "Python 3 (ipykernel)",
   "language": "python",
   "name": "python3"
  },
  "language_info": {
   "codemirror_mode": {
    "name": "ipython",
    "version": 3
   },
   "file_extension": ".py",
   "mimetype": "text/x-python",
   "name": "python",
   "nbconvert_exporter": "python",
   "pygments_lexer": "ipython3",
   "version": "3.11.5"
  }
 },
 "nbformat": 4,
 "nbformat_minor": 5
}
