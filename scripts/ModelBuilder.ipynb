{
 "cells": [
  {
   "cell_type": "code",
   "execution_count": null,
   "id": "8ee9c12b-db01-4730-9ebf-2228a073dba8",
   "metadata": {
    "ExecuteTime": {
     "end_time": "2023-10-11T19:08:04.668470800Z",
     "start_time": "2023-10-11T19:08:04.559839200Z"
    },
    "tags": []
   },
   "outputs": [],
   "source": [
    "import warnings\n",
    "warnings.simplefilter(action='ignore', category=FutureWarning)\n",
    "warnings.simplefilter(action='ignore', category=RuntimeWarning)\n",
    "\n",
    "import pandas as pd\n",
    "import numpy as np\n",
    "import os\n",
    "import xgboost as xgb\n",
    "#import matplotlib.pyplot as plt\n",
    "\n",
    "from ta import add_all_ta_features\n",
    "from ta.utils import dropna\n",
    "from pathlib import Path\n",
    "from sklearn.model_selection import TimeSeriesSplit\n",
    "from sklearn.model_selection import cross_val_score, GridSearchCV, KFold, RandomizedSearchCV, train_test_split\n",
    "from sklearn.metrics import auc, accuracy_score, confusion_matrix, mean_squared_error\n",
    "\n",
    "from scipy.stats import uniform, randint"
   ]
  },
  {
   "cell_type": "code",
   "execution_count": null,
   "id": "5935d18b-e6f7-4506-83b5-28e34e4f9aa0",
   "metadata": {
    "ExecuteTime": {
     "end_time": "2023-10-11T19:10:32.814929700Z",
     "start_time": "2023-10-11T19:10:32.777106200Z"
    }
   },
   "outputs": [],
   "source": [
    "turbo_path = (\"C:/Users/ab032mj/Documents/hackathon/scripts/hackathon-turbo/datasets/\")\n",
    "featured_path = \"C:/Users/ab032mj/Documents/hackathon/scripts/hackathon-turbo/datasets/featured/\""
   ]
  },
  {
   "cell_type": "code",
   "execution_count": null,
   "id": "c198518f-3b8d-4e3e-b798-45b527163619",
   "metadata": {
    "ExecuteTime": {
     "end_time": "2023-10-11T19:10:34.760884700Z",
     "start_time": "2023-10-11T19:10:34.736223200Z"
    }
   },
   "outputs": [],
   "source": [
    "def percentages_moves(df, column_old, column_new):\n",
    "    for i in range(0, len(df)):\n",
    "        if i == 0:\n",
    "             df.loc[i, column_new] = 0\n",
    "        else:\n",
    "            df.loc[i, column_new] = 100 - df.loc[i, column_old] * 100 / df.loc[i-1, column_old]\n",
    "            \n",
    "            \n",
    "def future_price(df, column_old, column_new):\n",
    "    for i in range(0, len(df)):\n",
    "        if i == len(df) - 1:\n",
    "             df.loc[i, column_new] = df.loc[i, column_old]\n",
    "        else:\n",
    "            df.loc[i, column_new] = df.loc[i+1, column_old]\n",
    "            \n",
    "def fill_na(df, column):\n",
    "    for i in range(0, len(df)):\n",
    "        if np.isnan(df.loc[i, column]) and i != 0:\n",
    "            df.loc[i, column] = df.loc[i - 1, column]\n",
    "        elif i == 0:\n",
    "            df.loc[i, column] = df[column].mean()"
   ]
  },
  {
   "cell_type": "code",
   "execution_count": null,
   "id": "368e0974-27f2-467e-aa0a-0f06ab4812b5",
   "metadata": {
    "ExecuteTime": {
     "end_time": "2023-10-11T19:08:05.004168400Z",
     "start_time": "2023-10-11T19:08:04.637105700Z"
    }
   },
   "outputs": [],
   "source": [
    "top_df = pd.read_csv(\"C:/_repos/hackaton-turbo/datasets/jse-percent-correlation/adjusted_price_percent_correlation_top_10.csv\")\n",
    "top_df"
   ]
  },
  {
   "cell_type": "code",
   "execution_count": null,
   "id": "4b1ebb64-00e5-4cfc-9bff-d8876165fd52",
   "metadata": {
    "ExecuteTime": {
     "end_time": "2023-10-11T19:11:22.068894700Z",
     "start_time": "2023-10-11T19:11:12.591949400Z"
    }
   },
   "outputs": [],
   "source": [
    "# create percentage moves and future prices\n",
    "stocks_markets = ['jse']\n",
    "for sm in stocks_markets:\n",
    "    print(sm)\n",
    "    sm_path = os.path.join(featured_path, sm)\n",
    "    for f in os.listdir(sm_path):\n",
    "        print(f)\n",
    "        f_path = os.path.join(sm_path, f)\n",
    "        df = pd.read_csv(f_path)\n",
    "        percentages_moves(df, 'Adj Close', 'Adj Close Percent')\n",
    "        future_price(df, 'Adj Close', 'Future Price')\n",
    "        df['DayOfWeek'] = pd.to_datetime(df['Date']).dt.dayofweek\n",
    "        df.to_csv(f_path, index=False)"
   ]
  },
  {
   "cell_type": "code",
   "execution_count": null,
   "id": "fe1d9947-6735-47ac-be04-a1e91997505e",
   "metadata": {
    "ExecuteTime": {
     "start_time": "2023-10-11T19:08:05.008392600Z"
    }
   },
   "outputs": [],
   "source": [
    "# add foreign markets features\n",
    "jse_market_path = sm_path = os.path.join(featured_path, 'jse')\n",
    "\n",
    "for jse in os.listdir(jse_market_path):\n",
    "    jse_path = os.path.join(jse_market_path, jse)\n",
    "    jse_name = Path(jse_path).stem\n",
    "    \n",
    "    js_df = pd.read_csv(jse_path)\n",
    "    \n",
    "    jse_top_corr_df = top_df[top_df['JSE_STOCK'] == jse_name]    \n",
    "    \n",
    "    def add_features(row_tuple, js_df):\n",
    "        row = row_tuple[1]\n",
    "        sm = row['TARGET_MARKET']\n",
    "        tst = row['TARGET_STOCK']\n",
    "        f_sm_path = os.path.join(featured_path, sm, f'{tst}.csv')\n",
    "        f_sm_df = pd.read_csv(f_sm_path, usecols=['Date', 'Adj Close Percent'])\n",
    "        f_sm_df.rename(columns={'Adj Close Percent': f'{sm}_{tst}_Close_percent' }, inplace=True)\n",
    "        return js_df.merge(f_sm_df, on='Date', how='left')   \n",
    "                \n",
    "    for row in jse_top_corr_df.iterrows():\n",
    "        js_df = add_features(row, js_df)\n",
    "    \n",
    "    js_df.to_csv(jse_path, index=False) "
   ]
  },
  {
   "cell_type": "code",
   "execution_count": null,
   "id": "9ad53fa1-1f66-4f15-a9fa-35f439c25984",
   "metadata": {
    "ExecuteTime": {
     "start_time": "2023-10-11T19:08:05.009406200Z"
    }
   },
   "outputs": [],
   "source": [
    "for jse in os.listdir(jse_market_path):\n",
    "    jse_path = os.path.join(jse_market_path, jse)\n",
    "    jse_name = Path(jse_path).stem\n",
    "    \n",
    "    js_df = pd.read_csv(jse_path)\n",
    "    last_10_cols = js_df.columns.tolist()[-10:]\n",
    "    for c in last_10_cols:\n",
    "        js_df.loc[0, c] = js_df.loc[1, c]\n",
    "        fill_na(js_df, c)\n",
    "    js_df.to_csv(jse_path, index=False)"
   ]
  },
  {
   "cell_type": "code",
   "execution_count": null,
   "id": "1f12ca73-d768-4204-bbba-171b2698f0cb",
   "metadata": {
    "tags": []
   },
   "outputs": [],
   "source": [
    "# Due to differing public holidays, certain deltas were repeated in external hints, this methed aims to clean those\n",
    "def df_external_close_price_cleaner(df):\n",
    "    for column in df.columns.tolist()[-10:]:\n",
    "        column_data = df[column].tolist()\n",
    "        last_seen = None\n",
    "        for i in range(len(column_data) - 1, 1, -1):\n",
    "            if column_data[i] == column_data[i-1]:\n",
    "                column_data[i] = 0\n",
    "        df[column] = pd.Series(column_data)"
   ]
  },
  {
   "cell_type": "code",
   "execution_count": null,
   "id": "c36d4adf-7494-4a83-8963-cfbd7d4da6bf",
   "metadata": {
    "ExecuteTime": {
     "end_time": "2023-10-11T19:12:59.412632Z",
     "start_time": "2023-10-11T19:12:22.090726600Z"
    },
    "tags": []
   },
   "outputs": [],
   "source": [
    "# create and save model\n",
    "import json\n",
    "for filename in os.listdir(\"../datasets/jse\"):\n",
    "    if filename.endswith(\".csv\"):\n",
    "        path = os.path.join(\"../datasets/jse\", filename)\n",
    "        df = pd.read_csv(path)\n",
    "        df_external_close_price_cleaner(df)\n",
    "\n",
    "        drop_features = ['Date', 'Open', 'High', 'Low', 'Close', 'Volume', 'Future Price']\n",
    "        X = df.drop(labels=drop_features, axis=1)\n",
    "        y = df['Future Price']\n",
    "\n",
    "        test_limit = (int)(len(df) / 8)\n",
    "\n",
    "        train_limit = len(df) - test_limit\n",
    "\n",
    "        X_train = X.iloc[0:train_limit, :]\n",
    "        X_test = X.iloc[train_limit:,:]\n",
    "        y_train = y.iloc[0:train_limit]\n",
    "        y_test = y.iloc[train_limit:]\n",
    "\n",
    "        xgb_model = xgb.XGBRegressor(objective=\"reg:squarederror\", random_state=42, seed=233)\n",
    "        xgb_model.fit(X_train, y_train)\n",
    "        y_pred = xgb_model.predict(X_test)\n",
    "        rmse = np.sqrt(mean_squared_error(y_test, y_pred))\n",
    "        \n",
    "        outpath = f\"{path}.predicted\"\n",
    "        with open(outpath, \"w\") as outfile:\n",
    "            outfile.write(json.dumps({\"Date\": df[\"Date\"].iloc[train_limit:].tolist(), \"Prediction\": y_pred.tolist(), \"Reality\": y_test.tolist()}))"
   ]
  },
  {
   "cell_type": "code",
   "execution_count": null,
   "id": "767a625fd4d5fc4f",
   "metadata": {
    "ExecuteTime": {
     "end_time": "2023-10-11T19:20:35.646641700Z",
     "start_time": "2023-10-11T19:20:33.512323300Z"
    },
    "collapsed": false,
    "jupyter": {
     "outputs_hidden": false
    }
   },
   "outputs": [],
   "source": [
    "from sklearn.linear_model import Ridge\n",
    "from sklearn.decomposition import PCA\n",
    "# create and save model\n",
    "import json\n",
    "for filename in os.listdir(\"../datasets/jse\"):\n",
    "    if filename.endswith(\".csv\"):\n",
    "        path = os.path.join(\"../datasets/jse\", filename)\n",
    "        df = pd.read_csv(path)\n",
    "\n",
    "        drop_features = ['Date', 'Open', 'High', 'Low', 'Close', 'Volume', 'Future Price']\n",
    "        X = df.drop(labels=drop_features, axis=1)\n",
    "        y = df['Future Price']\n",
    "\n",
    "        test_limit = (int)(len(df) / 8)\n",
    "\n",
    "        train_limit = len(df) - test_limit\n",
    "\n",
    "        X_train = X.iloc[0:train_limit, :]\n",
    "        X_test = X.iloc[train_limit:,:]\n",
    "        y_train = y.iloc[0:train_limit]\n",
    "        y_test = y.iloc[train_limit:]\n",
    "\n",
    "        pca = PCA(n_components=27) # create pca for i number of components\n",
    "        X_train_fs = pca.fit_transform(X_train) # fit and transform train data\n",
    "        X_test_fs = pca.transform(X_test)\n",
    "        clf = Ridge(alpha=0.8)\n",
    "        clf.fit(X_train_fs,y_train)\n",
    "        y_pred = clf.predict(X_test_fs)\n",
    "        rmse = np.sqrt(mean_squared_error(y_test, y_pred))\n",
    "        outpath = f\"{path}.predicted-ridge\"\n",
    "        with open(outpath, \"w\") as outfile:\n",
    "            outfile.write(json.dumps({\"Date\": df[\"Date\"].iloc[train_limit:].tolist(), \"Prediction\": y_pred.tolist(), \"Reality\": y_test.tolist()}))"
   ]
  }
 ],
 "metadata": {
  "kernelspec": {
   "display_name": "Python 3 (ipykernel)",
   "language": "python",
   "name": "python3"
  },
  "language_info": {
   "codemirror_mode": {
    "name": "ipython",
    "version": 3
   },
   "file_extension": ".py",
   "mimetype": "text/x-python",
   "name": "python",
   "nbconvert_exporter": "python",
   "pygments_lexer": "ipython3",
   "version": "3.11.5"
  }
 },
 "nbformat": 4,
 "nbformat_minor": 5
}
