{
 "cells": [
  {
   "cell_type": "code",
   "execution_count": 2,
   "id": "8ee9c12b-db01-4730-9ebf-2228a073dba8",
   "metadata": {
    "tags": [],
    "ExecuteTime": {
     "end_time": "2023-10-11T19:08:04.668470800Z",
     "start_time": "2023-10-11T19:08:04.559839200Z"
    }
   },
   "outputs": [],
   "source": [
    "import warnings\n",
    "warnings.simplefilter(action='ignore', category=FutureWarning)\n",
    "warnings.simplefilter(action='ignore', category=RuntimeWarning)\n",
    "\n",
    "import pandas as pd\n",
    "import numpy as np\n",
    "import os\n",
    "import xgboost as xgb\n",
    "#import matplotlib.pyplot as plt\n",
    "\n",
    "from ta import add_all_ta_features\n",
    "from ta.utils import dropna\n",
    "from pathlib import Path\n",
    "from sklearn.model_selection import TimeSeriesSplit\n",
    "from sklearn.model_selection import cross_val_score, GridSearchCV, KFold, RandomizedSearchCV, train_test_split\n",
    "from sklearn.metrics import auc, accuracy_score, confusion_matrix, mean_squared_error\n",
    "\n",
    "from scipy.stats import uniform, randint"
   ]
  },
  {
   "cell_type": "code",
   "execution_count": 7,
   "id": "5935d18b-e6f7-4506-83b5-28e34e4f9aa0",
   "metadata": {
    "ExecuteTime": {
     "end_time": "2023-10-11T19:10:32.814929700Z",
     "start_time": "2023-10-11T19:10:32.777106200Z"
    }
   },
   "outputs": [],
   "source": [
    "turbo_path = (\"C:/Users/ab032mj/Documents/hackathon/scripts/hackathon-turbo/datasets/\")\n",
    "featured_path = \"C:/Users/ab032mj/Documents/hackathon/scripts/hackathon-turbo/datasets/featured/\""
   ]
  },
  {
   "cell_type": "code",
   "execution_count": 8,
   "id": "c198518f-3b8d-4e3e-b798-45b527163619",
   "metadata": {
    "ExecuteTime": {
     "end_time": "2023-10-11T19:10:34.760884700Z",
     "start_time": "2023-10-11T19:10:34.736223200Z"
    }
   },
   "outputs": [],
   "source": [
    "def percentages_moves(df, column_old, column_new):\n",
    "    for i in range(0, len(df)):\n",
    "        if i == 0:\n",
    "             df.loc[i, column_new] = 0\n",
    "        else:\n",
    "            df.loc[i, column_new] = 100 - df.loc[i, column_old] * 100 / df.loc[i-1, column_old]\n",
    "            \n",
    "            \n",
    "def future_price(df, column_old, column_new):\n",
    "    for i in range(0, len(df)):\n",
    "        if i == len(df) - 1:\n",
    "             df.loc[i, column_new] = df.loc[i, column_old]\n",
    "        else:\n",
    "            df.loc[i, column_new] = df.loc[i+1, column_old]\n",
    "            \n",
    "def fill_na(df, column):\n",
    "    for i in range(0, len(df)):\n",
    "        if np.isnan(df.loc[i, column]) and i != 0:\n",
    "            df.loc[i, column] = df.loc[i - 1, column]\n",
    "        elif i == 0:\n",
    "            df.loc[i, column] = df[column].mean()"
   ]
  },
  {
   "cell_type": "code",
   "execution_count": 5,
   "id": "368e0974-27f2-467e-aa0a-0f06ab4812b5",
   "metadata": {
    "ExecuteTime": {
     "end_time": "2023-10-11T19:08:05.004168400Z",
     "start_time": "2023-10-11T19:08:04.637105700Z"
    }
   },
   "outputs": [
    {
     "ename": "FileNotFoundError",
     "evalue": "[Errno 2] No such file or directory: 'C:/_repos/hackaton-turbo/datasets/jse-percent-correlation/adjusted_price_percent_correlation_top_10.csv'",
     "output_type": "error",
     "traceback": [
      "\u001B[1;31m---------------------------------------------------------------------------\u001B[0m",
      "\u001B[1;31mFileNotFoundError\u001B[0m                         Traceback (most recent call last)",
      "Cell \u001B[1;32mIn[5], line 1\u001B[0m\n\u001B[1;32m----> 1\u001B[0m top_df \u001B[38;5;241m=\u001B[39m pd\u001B[38;5;241m.\u001B[39mread_csv(\u001B[38;5;124m\"\u001B[39m\u001B[38;5;124mC:/_repos/hackaton-turbo/datasets/jse-percent-correlation/adjusted_price_percent_correlation_top_10.csv\u001B[39m\u001B[38;5;124m\"\u001B[39m)\n\u001B[0;32m      2\u001B[0m top_df\n",
      "File \u001B[1;32m~\\AppData\\Local\\miniconda3\\envs\\scripts\\Lib\\site-packages\\pandas\\io\\parsers\\readers.py:912\u001B[0m, in \u001B[0;36mread_csv\u001B[1;34m(filepath_or_buffer, sep, delimiter, header, names, index_col, usecols, dtype, engine, converters, true_values, false_values, skipinitialspace, skiprows, skipfooter, nrows, na_values, keep_default_na, na_filter, verbose, skip_blank_lines, parse_dates, infer_datetime_format, keep_date_col, date_parser, date_format, dayfirst, cache_dates, iterator, chunksize, compression, thousands, decimal, lineterminator, quotechar, quoting, doublequote, escapechar, comment, encoding, encoding_errors, dialect, on_bad_lines, delim_whitespace, low_memory, memory_map, float_precision, storage_options, dtype_backend)\u001B[0m\n\u001B[0;32m    899\u001B[0m kwds_defaults \u001B[38;5;241m=\u001B[39m _refine_defaults_read(\n\u001B[0;32m    900\u001B[0m     dialect,\n\u001B[0;32m    901\u001B[0m     delimiter,\n\u001B[1;32m   (...)\u001B[0m\n\u001B[0;32m    908\u001B[0m     dtype_backend\u001B[38;5;241m=\u001B[39mdtype_backend,\n\u001B[0;32m    909\u001B[0m )\n\u001B[0;32m    910\u001B[0m kwds\u001B[38;5;241m.\u001B[39mupdate(kwds_defaults)\n\u001B[1;32m--> 912\u001B[0m \u001B[38;5;28;01mreturn\u001B[39;00m _read(filepath_or_buffer, kwds)\n",
      "File \u001B[1;32m~\\AppData\\Local\\miniconda3\\envs\\scripts\\Lib\\site-packages\\pandas\\io\\parsers\\readers.py:577\u001B[0m, in \u001B[0;36m_read\u001B[1;34m(filepath_or_buffer, kwds)\u001B[0m\n\u001B[0;32m    574\u001B[0m _validate_names(kwds\u001B[38;5;241m.\u001B[39mget(\u001B[38;5;124m\"\u001B[39m\u001B[38;5;124mnames\u001B[39m\u001B[38;5;124m\"\u001B[39m, \u001B[38;5;28;01mNone\u001B[39;00m))\n\u001B[0;32m    576\u001B[0m \u001B[38;5;66;03m# Create the parser.\u001B[39;00m\n\u001B[1;32m--> 577\u001B[0m parser \u001B[38;5;241m=\u001B[39m TextFileReader(filepath_or_buffer, \u001B[38;5;241m*\u001B[39m\u001B[38;5;241m*\u001B[39mkwds)\n\u001B[0;32m    579\u001B[0m \u001B[38;5;28;01mif\u001B[39;00m chunksize \u001B[38;5;129;01mor\u001B[39;00m iterator:\n\u001B[0;32m    580\u001B[0m     \u001B[38;5;28;01mreturn\u001B[39;00m parser\n",
      "File \u001B[1;32m~\\AppData\\Local\\miniconda3\\envs\\scripts\\Lib\\site-packages\\pandas\\io\\parsers\\readers.py:1407\u001B[0m, in \u001B[0;36mTextFileReader.__init__\u001B[1;34m(self, f, engine, **kwds)\u001B[0m\n\u001B[0;32m   1404\u001B[0m     \u001B[38;5;28mself\u001B[39m\u001B[38;5;241m.\u001B[39moptions[\u001B[38;5;124m\"\u001B[39m\u001B[38;5;124mhas_index_names\u001B[39m\u001B[38;5;124m\"\u001B[39m] \u001B[38;5;241m=\u001B[39m kwds[\u001B[38;5;124m\"\u001B[39m\u001B[38;5;124mhas_index_names\u001B[39m\u001B[38;5;124m\"\u001B[39m]\n\u001B[0;32m   1406\u001B[0m \u001B[38;5;28mself\u001B[39m\u001B[38;5;241m.\u001B[39mhandles: IOHandles \u001B[38;5;241m|\u001B[39m \u001B[38;5;28;01mNone\u001B[39;00m \u001B[38;5;241m=\u001B[39m \u001B[38;5;28;01mNone\u001B[39;00m\n\u001B[1;32m-> 1407\u001B[0m \u001B[38;5;28mself\u001B[39m\u001B[38;5;241m.\u001B[39m_engine \u001B[38;5;241m=\u001B[39m \u001B[38;5;28mself\u001B[39m\u001B[38;5;241m.\u001B[39m_make_engine(f, \u001B[38;5;28mself\u001B[39m\u001B[38;5;241m.\u001B[39mengine)\n",
      "File \u001B[1;32m~\\AppData\\Local\\miniconda3\\envs\\scripts\\Lib\\site-packages\\pandas\\io\\parsers\\readers.py:1661\u001B[0m, in \u001B[0;36mTextFileReader._make_engine\u001B[1;34m(self, f, engine)\u001B[0m\n\u001B[0;32m   1659\u001B[0m     \u001B[38;5;28;01mif\u001B[39;00m \u001B[38;5;124m\"\u001B[39m\u001B[38;5;124mb\u001B[39m\u001B[38;5;124m\"\u001B[39m \u001B[38;5;129;01mnot\u001B[39;00m \u001B[38;5;129;01min\u001B[39;00m mode:\n\u001B[0;32m   1660\u001B[0m         mode \u001B[38;5;241m+\u001B[39m\u001B[38;5;241m=\u001B[39m \u001B[38;5;124m\"\u001B[39m\u001B[38;5;124mb\u001B[39m\u001B[38;5;124m\"\u001B[39m\n\u001B[1;32m-> 1661\u001B[0m \u001B[38;5;28mself\u001B[39m\u001B[38;5;241m.\u001B[39mhandles \u001B[38;5;241m=\u001B[39m get_handle(\n\u001B[0;32m   1662\u001B[0m     f,\n\u001B[0;32m   1663\u001B[0m     mode,\n\u001B[0;32m   1664\u001B[0m     encoding\u001B[38;5;241m=\u001B[39m\u001B[38;5;28mself\u001B[39m\u001B[38;5;241m.\u001B[39moptions\u001B[38;5;241m.\u001B[39mget(\u001B[38;5;124m\"\u001B[39m\u001B[38;5;124mencoding\u001B[39m\u001B[38;5;124m\"\u001B[39m, \u001B[38;5;28;01mNone\u001B[39;00m),\n\u001B[0;32m   1665\u001B[0m     compression\u001B[38;5;241m=\u001B[39m\u001B[38;5;28mself\u001B[39m\u001B[38;5;241m.\u001B[39moptions\u001B[38;5;241m.\u001B[39mget(\u001B[38;5;124m\"\u001B[39m\u001B[38;5;124mcompression\u001B[39m\u001B[38;5;124m\"\u001B[39m, \u001B[38;5;28;01mNone\u001B[39;00m),\n\u001B[0;32m   1666\u001B[0m     memory_map\u001B[38;5;241m=\u001B[39m\u001B[38;5;28mself\u001B[39m\u001B[38;5;241m.\u001B[39moptions\u001B[38;5;241m.\u001B[39mget(\u001B[38;5;124m\"\u001B[39m\u001B[38;5;124mmemory_map\u001B[39m\u001B[38;5;124m\"\u001B[39m, \u001B[38;5;28;01mFalse\u001B[39;00m),\n\u001B[0;32m   1667\u001B[0m     is_text\u001B[38;5;241m=\u001B[39mis_text,\n\u001B[0;32m   1668\u001B[0m     errors\u001B[38;5;241m=\u001B[39m\u001B[38;5;28mself\u001B[39m\u001B[38;5;241m.\u001B[39moptions\u001B[38;5;241m.\u001B[39mget(\u001B[38;5;124m\"\u001B[39m\u001B[38;5;124mencoding_errors\u001B[39m\u001B[38;5;124m\"\u001B[39m, \u001B[38;5;124m\"\u001B[39m\u001B[38;5;124mstrict\u001B[39m\u001B[38;5;124m\"\u001B[39m),\n\u001B[0;32m   1669\u001B[0m     storage_options\u001B[38;5;241m=\u001B[39m\u001B[38;5;28mself\u001B[39m\u001B[38;5;241m.\u001B[39moptions\u001B[38;5;241m.\u001B[39mget(\u001B[38;5;124m\"\u001B[39m\u001B[38;5;124mstorage_options\u001B[39m\u001B[38;5;124m\"\u001B[39m, \u001B[38;5;28;01mNone\u001B[39;00m),\n\u001B[0;32m   1670\u001B[0m )\n\u001B[0;32m   1671\u001B[0m \u001B[38;5;28;01massert\u001B[39;00m \u001B[38;5;28mself\u001B[39m\u001B[38;5;241m.\u001B[39mhandles \u001B[38;5;129;01mis\u001B[39;00m \u001B[38;5;129;01mnot\u001B[39;00m \u001B[38;5;28;01mNone\u001B[39;00m\n\u001B[0;32m   1672\u001B[0m f \u001B[38;5;241m=\u001B[39m \u001B[38;5;28mself\u001B[39m\u001B[38;5;241m.\u001B[39mhandles\u001B[38;5;241m.\u001B[39mhandle\n",
      "File \u001B[1;32m~\\AppData\\Local\\miniconda3\\envs\\scripts\\Lib\\site-packages\\pandas\\io\\common.py:859\u001B[0m, in \u001B[0;36mget_handle\u001B[1;34m(path_or_buf, mode, encoding, compression, memory_map, is_text, errors, storage_options)\u001B[0m\n\u001B[0;32m    854\u001B[0m \u001B[38;5;28;01melif\u001B[39;00m \u001B[38;5;28misinstance\u001B[39m(handle, \u001B[38;5;28mstr\u001B[39m):\n\u001B[0;32m    855\u001B[0m     \u001B[38;5;66;03m# Check whether the filename is to be opened in binary mode.\u001B[39;00m\n\u001B[0;32m    856\u001B[0m     \u001B[38;5;66;03m# Binary mode does not support 'encoding' and 'newline'.\u001B[39;00m\n\u001B[0;32m    857\u001B[0m     \u001B[38;5;28;01mif\u001B[39;00m ioargs\u001B[38;5;241m.\u001B[39mencoding \u001B[38;5;129;01mand\u001B[39;00m \u001B[38;5;124m\"\u001B[39m\u001B[38;5;124mb\u001B[39m\u001B[38;5;124m\"\u001B[39m \u001B[38;5;129;01mnot\u001B[39;00m \u001B[38;5;129;01min\u001B[39;00m ioargs\u001B[38;5;241m.\u001B[39mmode:\n\u001B[0;32m    858\u001B[0m         \u001B[38;5;66;03m# Encoding\u001B[39;00m\n\u001B[1;32m--> 859\u001B[0m         handle \u001B[38;5;241m=\u001B[39m \u001B[38;5;28mopen\u001B[39m(\n\u001B[0;32m    860\u001B[0m             handle,\n\u001B[0;32m    861\u001B[0m             ioargs\u001B[38;5;241m.\u001B[39mmode,\n\u001B[0;32m    862\u001B[0m             encoding\u001B[38;5;241m=\u001B[39mioargs\u001B[38;5;241m.\u001B[39mencoding,\n\u001B[0;32m    863\u001B[0m             errors\u001B[38;5;241m=\u001B[39merrors,\n\u001B[0;32m    864\u001B[0m             newline\u001B[38;5;241m=\u001B[39m\u001B[38;5;124m\"\u001B[39m\u001B[38;5;124m\"\u001B[39m,\n\u001B[0;32m    865\u001B[0m         )\n\u001B[0;32m    866\u001B[0m     \u001B[38;5;28;01melse\u001B[39;00m:\n\u001B[0;32m    867\u001B[0m         \u001B[38;5;66;03m# Binary mode\u001B[39;00m\n\u001B[0;32m    868\u001B[0m         handle \u001B[38;5;241m=\u001B[39m \u001B[38;5;28mopen\u001B[39m(handle, ioargs\u001B[38;5;241m.\u001B[39mmode)\n",
      "\u001B[1;31mFileNotFoundError\u001B[0m: [Errno 2] No such file or directory: 'C:/_repos/hackaton-turbo/datasets/jse-percent-correlation/adjusted_price_percent_correlation_top_10.csv'"
     ]
    }
   ],
   "source": [
    "top_df = pd.read_csv(\"C:/_repos/hackaton-turbo/datasets/jse-percent-correlation/adjusted_price_percent_correlation_top_10.csv\")\n",
    "top_df"
   ]
  },
  {
   "cell_type": "code",
   "execution_count": 9,
   "id": "4b1ebb64-00e5-4cfc-9bff-d8876165fd52",
   "metadata": {
    "ExecuteTime": {
     "end_time": "2023-10-11T19:11:22.068894700Z",
     "start_time": "2023-10-11T19:11:12.591949400Z"
    }
   },
   "outputs": [
    {
     "name": "stdout",
     "output_type": "stream",
     "text": [
      "jse\n",
      "ABG.JO_2021-09-15_2023-09-15.csv\n",
      "ADH.JO_2021-09-15_2023-09-15.csv\n",
      "AFE.JO_2021-09-15_2023-09-15.csv\n",
      "AFT.JO_2021-09-15_2023-09-15.csv\n",
      "AGL.JO_2021-09-15_2023-09-15.csv\n",
      "AMS.JO_2021-09-15_2023-09-15.csv\n",
      "ANG.JO_2021-09-15_2023-09-15.csv\n",
      "ANH.JO_2021-09-15_2023-09-15.csv\n",
      "APN.JO_2021-09-15_2023-09-15.csv\n",
      "ARI.JO_2021-09-15_2023-09-15.csv\n",
      "AVI.JO_2021-09-15_2023-09-15.csv\n",
      "BHG.JO_2021-09-15_2023-09-15.csv\n",
      "BID.JO_2021-09-15_2023-09-15.csv\n",
      "BTI.JO_2021-09-15_2023-09-15.csv\n",
      "BVT.JO_2021-09-15_2023-09-15.csv\n",
      "CFR.JO_2021-09-15_2023-09-15.csv\n",
      "CLS.JO_2021-09-15_2023-09-15.csv\n",
      "CML.JO_2021-09-15_2023-09-15.csv\n",
      "COH.JO_2021-09-15_2023-09-15.csv\n",
      "CPI.JO_2021-09-15_2023-09-15.csv\n",
      "DCP.JO_2021-09-15_2023-09-15.csv\n",
      "DRD.JO_2021-09-15_2023-09-15.csv\n",
      "DSY.JO_2021-09-15_2023-09-15.csv\n",
      "DTC.JO_2021-09-15_2023-09-15.csv\n",
      "EQU.JO_2021-09-15_2023-09-15.csv\n",
      "EXX.JO_2021-09-15_2023-09-15.csv\n",
      "FBR.JO_2021-09-15_2023-09-15.csv\n",
      "FFA.JO_2021-09-15_2023-09-15.csv\n",
      "FFB.JO_2021-09-15_2023-09-15.csv\n",
      "FSR.JO_2021-09-15_2023-09-15.csv\n",
      "GFI.JO_2021-09-15_2023-09-15.csv\n",
      "GLN.JO_2021-09-15_2023-09-15.csv\n",
      "GND.JO_2021-09-15_2023-09-15.csv\n",
      "GRT.JO_2021-09-15_2023-09-15.csv\n",
      "HAR.JO_2021-09-15_2023-09-15.csv\n",
      "HCI.JO_2021-09-15_2023-09-15.csv\n",
      "HMN.JO_2021-09-15_2023-09-15.csv\n",
      "HYP.JO_2021-09-15_2023-09-15.csv\n",
      "IMP.JO_2021-09-15_2023-09-15.csv\n",
      "INL.JO_2021-09-15_2023-09-15.csv\n",
      "INP.JO_2021-09-15_2023-09-15.csv\n",
      "IPF.JO_2021-09-15_2023-09-15.csv\n",
      "JSE.JO_2021-09-15_2023-09-15.csv\n",
      "KAP.JO_2021-09-15_2023-09-15.csv\n",
      "KIO.JO_2021-09-15_2023-09-15.csv\n",
      "KST.JO_2021-09-15_2023-09-15.csv\n",
      "LHC.JO_2021-09-15_2023-09-15.csv\n",
      "LTE.JO_2021-09-15_2023-09-15.csv\n",
      "MCG.JO_2021-09-15_2023-09-15.csv\n",
      "MNP.JO_2021-09-15_2023-09-15.csv\n",
      "MRP.JO_2021-09-15_2023-09-15.csv\n",
      "MSP.JO_2021-09-15_2023-09-15.csv\n",
      "MTH.JO_2021-09-15_2023-09-15.csv\n",
      "MTM.JO_2021-09-15_2023-09-15.csv\n",
      "MTN.JO_2021-09-15_2023-09-15.csv\n",
      "N91.JO_2021-09-15_2023-09-15.csv\n",
      "NED.JO_2021-09-15_2023-09-15.csv\n",
      "NPH.JO_2021-09-15_2023-09-15.csv\n",
      "NPN.JO_2021-09-15_2023-09-15.csv\n",
      "NRP.JO_2021-09-15_2023-09-15.csv\n",
      "NTC.JO_2021-09-15_2023-09-15.csv\n",
      "NY1.JO_2021-09-15_2023-09-15.csv\n",
      "OCE.JO_2021-09-15_2023-09-15.csv\n",
      "OMN.JO_2021-09-15_2023-09-15.csv\n",
      "OMU.JO_2021-09-15_2023-09-15.csv\n",
      "OUT.JO_2021-09-15_2023-09-15.csv\n",
      "PAN.JO_2021-09-15_2023-09-15.csv\n",
      "PIK.JO_2021-09-15_2023-09-15.csv\n",
      "PPH.JO_2021-09-15_2023-09-15.csv\n",
      "PRX.JO_2021-09-15_2023-09-15.csv\n",
      "QLT.JO_2021-09-15_2023-09-15.csv\n",
      "RCL.JO_2021-09-15_2023-09-15.csv\n",
      "RDF.JO_2021-09-15_2023-09-15.csv\n",
      "REM.JO_2021-09-15_2023-09-15.csv\n",
      "RES.JO_2021-09-15_2023-09-15.csv\n",
      "RLO.JO_2021-09-15_2023-09-15.csv\n",
      "RNI.JO_2021-09-15_2023-09-15.csv\n",
      "S32.JO_2021-09-15_2023-09-15.csv\n",
      "SAP.JO_2021-09-15_2023-09-15.csv\n",
      "SBK.JO_2021-09-15_2023-09-15.csv\n",
      "SHC.JO_2021-09-15_2023-09-15.csv\n",
      "SHP.JO_2021-09-15_2023-09-15.csv\n",
      "SLM.JO_2021-09-15_2023-09-15.csv\n",
      "SOL.JO_2021-09-15_2023-09-15.csv\n",
      "SPG.JO_2021-09-15_2023-09-15.csv\n",
      "SPP.JO_2021-09-15_2023-09-15.csv\n",
      "SRE.JO_2021-09-15_2023-09-15.csv\n",
      "SSS.JO_2021-09-15_2023-09-15.csv\n",
      "SSW.JO_2021-09-15_2023-09-15.csv\n",
      "SUI.JO_2021-09-15_2023-09-15.csv\n",
      "TBS.JO_2021-09-15_2023-09-15.csv\n",
      "TFG.JO_2021-09-15_2023-09-15.csv\n",
      "TGA.JO_2021-09-15_2023-09-15.csv\n",
      "TKG.JO_2021-09-15_2023-09-15.csv\n",
      "TRU.JO_2021-09-15_2023-09-15.csv\n",
      "TSG.JO_2021-09-15_2023-09-15.csv\n",
      "VKE.JO_2021-09-15_2023-09-15.csv\n",
      "VOD.JO_2021-09-15_2023-09-15.csv\n",
      "WBO.JO_2021-09-15_2023-09-15.csv\n",
      "WHL.JO_2021-09-15_2023-09-15.csv\n"
     ]
    }
   ],
   "source": [
    "# create percentage moves and future prices\n",
    "stocks_markets = ['jse']\n",
    "for sm in stocks_markets:\n",
    "    print(sm)\n",
    "    sm_path = os.path.join(featured_path, sm)\n",
    "    for f in os.listdir(sm_path):\n",
    "        print(f)\n",
    "        f_path = os.path.join(sm_path, f)\n",
    "        df = pd.read_csv(f_path)\n",
    "        percentages_moves(df, 'Adj Close', 'Adj Close Percent')\n",
    "        future_price(df, 'Adj Close', 'Future Price')\n",
    "        df['DayOfWeek'] = pd.to_datetime(df['Date']).dt.dayofweek\n",
    "        df.to_csv(f_path, index=False)"
   ]
  },
  {
   "cell_type": "code",
   "execution_count": null,
   "id": "fe1d9947-6735-47ac-be04-a1e91997505e",
   "metadata": {
    "ExecuteTime": {
     "start_time": "2023-10-11T19:08:05.008392600Z"
    }
   },
   "outputs": [],
   "source": [
    "# add foreign markets features\n",
    "jse_market_path = sm_path = os.path.join(featured_path, 'jse')\n",
    "\n",
    "for jse in os.listdir(jse_market_path):\n",
    "    jse_path = os.path.join(jse_market_path, jse)\n",
    "    jse_name = Path(jse_path).stem\n",
    "    \n",
    "    js_df = pd.read_csv(jse_path)\n",
    "    \n",
    "    jse_top_corr_df = top_df[top_df['JSE_STOCK'] == jse_name]    \n",
    "    \n",
    "    def add_features(row_tuple, js_df):\n",
    "        row = row_tuple[1]\n",
    "        sm = row['TARGET_MARKET']\n",
    "        tst = row['TARGET_STOCK']\n",
    "        f_sm_path = os.path.join(featured_path, sm, f'{tst}.csv')\n",
    "        f_sm_df = pd.read_csv(f_sm_path, usecols=['Date', 'Adj Close Percent'])\n",
    "        f_sm_df.rename(columns={'Adj Close Percent': f'{sm}_{tst}_Close_percent' }, inplace=True)\n",
    "        return js_df.merge(f_sm_df, on='Date', how='left')   \n",
    "                \n",
    "    for row in jse_top_corr_df.iterrows():\n",
    "        js_df = add_features(row, js_df)\n",
    "    \n",
    "    js_df.to_csv(jse_path, index=False) "
   ]
  },
  {
   "cell_type": "code",
   "execution_count": null,
   "id": "9ad53fa1-1f66-4f15-a9fa-35f439c25984",
   "metadata": {
    "ExecuteTime": {
     "start_time": "2023-10-11T19:08:05.009406200Z"
    }
   },
   "outputs": [],
   "source": [
    "for jse in os.listdir(jse_market_path):\n",
    "    jse_path = os.path.join(jse_market_path, jse)\n",
    "    jse_name = Path(jse_path).stem\n",
    "    \n",
    "    js_df = pd.read_csv(jse_path)\n",
    "    last_10_cols = js_df.columns.tolist()[-10:]\n",
    "    for c in last_10_cols:\n",
    "        js_df.loc[0, c] = js_df.loc[1, c]\n",
    "        fill_na(js_df, c)\n",
    "    js_df.to_csv(jse_path, index=False)"
   ]
  },
  {
   "cell_type": "code",
   "execution_count": 10,
   "id": "c36d4adf-7494-4a83-8963-cfbd7d4da6bf",
   "metadata": {
    "tags": [],
    "ExecuteTime": {
     "end_time": "2023-10-11T19:12:59.412632Z",
     "start_time": "2023-10-11T19:12:22.090726600Z"
    }
   },
   "outputs": [],
   "source": [
    "# create and save model\n",
    "import json\n",
    "for filename in os.listdir(\"../datasets/jse\"):\n",
    "    if filename.endswith(\".csv\"):\n",
    "        path = os.path.join(\"../datasets/jse\", filename)\n",
    "        df = pd.read_csv(path)\n",
    "\n",
    "        drop_features = ['Date', 'Open', 'High', 'Low', 'Close', 'Volume', 'Future Price']\n",
    "        X = df.drop(labels=drop_features, axis=1)\n",
    "        y = df['Future Price']\n",
    "\n",
    "        test_limit = (int)(len(df) / 8)\n",
    "\n",
    "        train_limit = len(df) - test_limit\n",
    "\n",
    "        X_train = X.iloc[0:train_limit, :]\n",
    "        X_test = X.iloc[train_limit:,:]\n",
    "        y_train = y.iloc[0:train_limit]\n",
    "        y_test = y.iloc[train_limit:]\n",
    "\n",
    "        xgb_model = xgb.XGBRegressor(objective=\"reg:squarederror\")\n",
    "        xgb_model.fit(X_train, y_train)\n",
    "        y_pred = xgb_model.predict(X_test)\n",
    "        rmse = np.sqrt(mean_squared_error(y_test, y_pred))\n",
    "        \n",
    "        outpath = f\"{path}.predicted\"\n",
    "        with open(outpath, \"w\") as outfile:\n",
    "            outfile.write(json.dumps({\"Date\": df[\"Date\"].iloc[train_limit:].tolist(), \"Prediction\": y_pred.tolist(), \"Reality\": y_test.tolist()}))"
   ]
  },
  {
   "cell_type": "code",
   "execution_count": null,
   "outputs": [],
   "source": [],
   "metadata": {
    "collapsed": false,
    "ExecuteTime": {
     "start_time": "2023-10-11T19:08:05.011521300Z"
    }
   },
   "id": "7ce090574122b770"
  },
  {
   "cell_type": "code",
   "execution_count": 13,
   "outputs": [],
   "source": [
    "from sklearn.linear_model import Ridge\n",
    "from sklearn.decomposition import PCA\n",
    "# create and save model\n",
    "import json\n",
    "for filename in os.listdir(\"../datasets/jse\"):\n",
    "    if filename.endswith(\".csv\"):\n",
    "        path = os.path.join(\"../datasets/jse\", filename)\n",
    "        df = pd.read_csv(path)\n",
    "\n",
    "        drop_features = ['Date', 'Open', 'High', 'Low', 'Close', 'Volume', 'Future Price']\n",
    "        X = df.drop(labels=drop_features, axis=1)\n",
    "        y = df['Future Price']\n",
    "\n",
    "        test_limit = (int)(len(df) / 8)\n",
    "\n",
    "        train_limit = len(df) - test_limit\n",
    "\n",
    "        X_train = X.iloc[0:train_limit, :]\n",
    "        X_test = X.iloc[train_limit:,:]\n",
    "        y_train = y.iloc[0:train_limit]\n",
    "        y_test = y.iloc[train_limit:]\n",
    "\n",
    "        pca = PCA(n_components=27) # create pca for i number of components\n",
    "        X_train_fs = pca.fit_transform(X_train) # fit and transform train data\n",
    "        X_test_fs = pca.transform(X_test)\n",
    "        clf = Ridge(alpha=0.8)\n",
    "        clf.fit(X_train_fs,y_train)\n",
    "        y_pred = clf.predict(X_test_fs)\n",
    "        rmse = np.sqrt(mean_squared_error(y_test, y_pred))\n",
    "        outpath = f\"{path}.predicted-ridge\"\n",
    "        with open(outpath, \"w\") as outfile:\n",
    "            outfile.write(json.dumps({\"Date\": df[\"Date\"].iloc[train_limit:].tolist(), \"Prediction\": y_pred.tolist(), \"Reality\": y_test.tolist()}))"
   ],
   "metadata": {
    "collapsed": false,
    "ExecuteTime": {
     "end_time": "2023-10-11T19:20:35.646641700Z",
     "start_time": "2023-10-11T19:20:33.512323300Z"
    }
   },
   "id": "767a625fd4d5fc4f"
  },
  {
   "cell_type": "code",
   "execution_count": null,
   "outputs": [],
   "source": [],
   "metadata": {
    "collapsed": false
   },
   "id": "d426686b47e9c3a"
  }
 ],
 "metadata": {
  "kernelspec": {
   "display_name": "Python 3 (ipykernel)",
   "language": "python",
   "name": "python3"
  },
  "language_info": {
   "codemirror_mode": {
    "name": "ipython",
    "version": 3
   },
   "file_extension": ".py",
   "mimetype": "text/x-python",
   "name": "python",
   "nbconvert_exporter": "python",
   "pygments_lexer": "ipython3",
   "version": "3.11.5"
  }
 },
 "nbformat": 4,
 "nbformat_minor": 5
}
