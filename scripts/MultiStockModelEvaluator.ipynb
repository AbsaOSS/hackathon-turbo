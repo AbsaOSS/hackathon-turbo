{
 "cells": [
  {
   "cell_type": "code",
   "execution_count": null,
   "id": "0427561f-5f45-40e7-a563-20190566b856",
   "metadata": {
    "ExecuteTime": {
     "end_time": "2023-10-11T18:48:05.542096700Z",
     "start_time": "2023-10-11T18:48:03.951444800Z"
    },
    "tags": []
   },
   "outputs": [],
   "source": [
    "# Function definitions\n",
    "# Execute this cell before doing anything else\n",
    "\n",
    "import os\n",
    "import json\n",
    "import time\n",
    "import numpy as np\n",
    "import pandas as pd\n",
    "import altair as alt\n",
    "alt.data_transformers.disable_max_rows()\n",
    "\n",
    "def _div_safe(dividend: float, divisor: float) -> float:\n",
    "    try:\n",
    "        return dividend / divisor\n",
    "    except:\n",
    "        return 0.0\n",
    "\n",
    "# stock - name of the stock\n",
    "# date - list with dates of observations\n",
    "# reality - list of reality prices (corresponding with date list)\n",
    "# prediction - list of predicted prices (corresponding with date list)\n",
    "# <return> - list of individual records, to be appended into wide-form DataFrame\n",
    "def transform_data(stock: str, date: list[str], reality: list[float], prediction: list[float]) -> list[dict]:\n",
    "    data = []\n",
    "    reality_series = pd.Series(reality)\n",
    "    reality_diff_series = reality_series.diff().shift(-1)\n",
    "    prediction_series = pd.Series(prediction)\n",
    "    prediction_diff_series = prediction_series.diff().shift(-1)\n",
    "    for i in range(1,len(date)):\n",
    "        reality_series_head = reality_series.head(i)\n",
    "        reality_diff_series_head = reality_diff_series.head(i)\n",
    "        prediction_series_head = prediction_series.head(i)\n",
    "        prediction_diff_series_head = prediction_diff_series.head(i)\n",
    "    \n",
    "        item = {\"Date\": date[i], \"Stock\": stock, \"Prediction\": prediction[i], \"Reality\": reality[i]}\n",
    "        item[\"Price Delta - Predicted\"] = prediction[i-1] - prediction[i]\n",
    "        item[\"Price Delta - Reality\"] = reality[i-1] - reality[i]\n",
    "        item[\"Price Delta (%) - Predicted\"] =  100 * _div_safe(prediction[i-1] - prediction[i], prediction[i-1])\n",
    "        item[\"Price Delta (%) - Reality\"] = 100 * (reality[i-1] - reality[i])/reality[i-1]\n",
    "        item[\"Prediction Error\"] = prediction[i] - reality[i]\n",
    "        item[\"Prediction Error (Abs)\"] = abs(prediction[i] - reality[i])\n",
    "        item[\"Prediction Error (Cummulative)\"] = sum([prediction[j] - reality[j] for j in range(i)])\n",
    "        item[\"Prediction Error (Abs Cummulative)\"] = sum([abs(prediction[j] - reality[j]) for j in range(i)])\n",
    "        item[\"Correlation\"] = reality_series_head.corr(prediction_series_head) if i > 2 else None\n",
    "        item[\"Correlation - of Deltas\"] = reality_diff_series_head.corr(prediction_diff_series_head) if i > 2 else None\n",
    "        item[\"MSE\"] = ((prediction_series_head - reality_series_head) ** 2).mean()\n",
    "        item[\"RMSE\"] = item[\"MSE\"] ** 0.5\n",
    "        item[\"RMSLE\"] = ((np.log10(1 + prediction_series_head) - np.log10(1 + reality_series_head)) ** 2).mean()\n",
    "        mse_model = ((prediction_series_head - reality_series_head) ** 2).mean()\n",
    "        mse_baseline = ((reality_series_head.mean() - reality_series_head) ** 2).mean()\n",
    "        item[\"R-Squared\"] = 1 - mse_model / mse_baseline if i > 2 else None\n",
    "        \n",
    "        data.append(item)\n",
    "    return data\n",
    "\n",
    "def make_plot(wide_df):\n",
    "    melted_df = df.copy().melt([\"Date\", \"Stock\"], var_name = \"Metric\", value_name = \"Value\")\n",
    "    melted_df[\"color_id\"] = melted_df[\"Stock\"] + \" - \" + melted_df[\"Metric\"]\n",
    "    chart_base = alt.Chart(melted_df)\n",
    "    \n",
    "    selector_class = alt.selection_point(fields=['Metric'])\n",
    "    chart_selector_class = chart_base.mark_bar().encode(\n",
    "            y = f\"Metric:N\",\n",
    "            color = alt.condition(selector_class, alt.value(\"red\"), alt.value(\"lightgray\"))\n",
    "        ).add_params(selector_class)\n",
    "    \n",
    "    selector_stock = alt.selection_point(fields=['Stock'])\n",
    "    chart_selector_stock = chart_base.mark_bar().encode(\n",
    "            x = f\"Stock:N\",\n",
    "            color = alt.condition(selector_stock, alt.value(\"red\"), alt.value(\"lightgray\"))\n",
    "        ).add_params(selector_stock)\n",
    "    \n",
    "    chart_plot = chart_base.mark_line().encode(\n",
    "            x = alt.X(\"Date\"),\n",
    "            y = alt.Y(\"Value\").scale(zero=False),\n",
    "            color = alt.Color(\"color_id\", legend = None),\n",
    "            tooltip = [\"Stock\", \"Metric\", \"Date\", \"Value\"]\n",
    "        ).transform_filter(selector_class).transform_filter(selector_stock).properties(width = 2048).interactive()\n",
    "    \n",
    "    chart_box = chart_base.mark_boxplot().encode(\n",
    "            x = alt.X(\"Stock\"),\n",
    "            column = alt.Column(\"Metric\"),\n",
    "            y = alt.Y(\"Value\").scale(zero=False),\n",
    "            color = alt.Color(\"color_id\", legend = None),\n",
    "        ).transform_filter(selector_class).transform_filter(selector_stock)\n",
    "    \n",
    "    return (chart_selector_stock & (chart_selector_class | chart_plot) & chart_box).configure(background='#BBBBBB')"
   ]
  },
  {
   "cell_type": "code",
   "execution_count": null,
   "id": "4a179ff5-7478-4aee-a0db-46431d637c5f",
   "metadata": {
    "ExecuteTime": {
     "end_time": "2023-10-11T19:22:38.227773600Z",
     "start_time": "2023-10-11T19:22:33.887111100Z"
    },
    "tags": []
   },
   "outputs": [],
   "source": [
    "# Load JSE predictions Data\n",
    "# Execute this cell to load and transform JSE data into wide-form DataFrame\n",
    "start = time.time()\n",
    "data = []\n",
    "for filename in os.listdir(\"../datasets/jse\"):\n",
    "    if filename.endswith(\"predicted\"):\n",
    "        path = os.path.join(\"../datasets/jse\", filename)\n",
    "        with open(path, \"r\") as infile:\n",
    "            loaded = json.load(infile)\n",
    "            data.extend(transform_data(filename[:5], loaded[\"Date\"], loaded[\"Reality\"], loaded[\"Prediction\"]))\n",
    "df = pd.DataFrame(data)\n",
    "print(f\"Loaded {len(data)} records in time {time.time() - start}\")"
   ]
  },
  {
   "cell_type": "code",
   "execution_count": null,
   "id": "c8ffed0ba298392a",
   "metadata": {
    "ExecuteTime": {
     "end_time": "2023-10-11T19:21:34.212213400Z",
     "start_time": "2023-10-11T19:21:29.837335100Z"
    },
    "collapsed": false,
    "jupyter": {
     "outputs_hidden": false
    }
   },
   "outputs": [],
   "source": [
    "# Load JSE Ridge predictions Data\n",
    "# Execute this cell to load and transform JSE Ridge data into wide-form DataFrame\n",
    "start = time.time()\n",
    "data = []\n",
    "for filename in os.listdir(\"../datasets/jse\"):\n",
    "    if filename.endswith(\"predicted-ridge\"):\n",
    "        path = os.path.join(\"../datasets/jse\", filename)\n",
    "        with open(path, \"r\") as infile:\n",
    "            loaded = json.load(infile)\n",
    "            data.extend(transform_data(filename[:5], loaded[\"Date\"], loaded[\"Reality\"], loaded[\"Prediction\"]))\n",
    "df = pd.DataFrame(data)\n",
    "print(f\"Loaded {len(data)} records in time {time.time() - start}\")"
   ]
  },
  {
   "cell_type": "code",
   "execution_count": null,
   "id": "4341570d-3db2-4202-9677-192c3f832411",
   "metadata": {
    "ExecuteTime": {
     "end_time": "2023-10-11T18:48:38.348328300Z",
     "start_time": "2023-10-11T18:48:29.368771200Z"
    },
    "tags": []
   },
   "outputs": [],
   "source": [
    "# Load dummy models data\n",
    "# Execute this cell to load and transform dummy models into wide-worm DataFrame\n",
    "#    Note: this cell should be mutually-exclusive with Load Data cell (or custom data loading cell)\n",
    "import random as rnd\n",
    "\n",
    "def predict_keep(reality, inflation):\n",
    "    prediction = []\n",
    "    last = 0\n",
    "    for item in reality:\n",
    "        prediction.append(last * (1+inflation))\n",
    "        last = item\n",
    "    return prediction\n",
    "\n",
    "def predict_keep_momentum(reality, momentum):\n",
    "    prediction = []\n",
    "    last = 0\n",
    "    deltas = [0] * momentum\n",
    "    for item in reality:\n",
    "        prediction.append(last + sum(deltas)/momentum)\n",
    "        deltas = deltas[1:]\n",
    "        deltas.append(last - item)\n",
    "        last = item\n",
    "    return prediction\n",
    "\n",
    "def predict_up_momentum(reality, momentum):\n",
    "    prediction = []\n",
    "    last = 0\n",
    "    deltas = [0] * momentum\n",
    "    for item in reality:\n",
    "        prediction.append(last + abs(sum(deltas)/momentum))\n",
    "        deltas = deltas[1:]\n",
    "        deltas.append(last - item)\n",
    "        last = item\n",
    "    return prediction\n",
    "\n",
    "def predict_rnd_momentum(reality, momentum):\n",
    "    prediction = []\n",
    "    last = 0\n",
    "    deltas = [0] * momentum\n",
    "    for item in reality:\n",
    "        prediction.append(last + abs(sum(deltas)/momentum) * (1 - 2*rnd.random()))\n",
    "        deltas = deltas[1:]\n",
    "        deltas.append(last - item)\n",
    "        last = item\n",
    "    return prediction\n",
    "\n",
    "def predict_random(items, min_val, max_val):\n",
    "    return [min_val + (max_val - min_val) * rnd.random() for i in range(items)]\n",
    "\n",
    "start = time.time()\n",
    "data = []\n",
    "\n",
    "sample_df = pd.read_csv(\"sample_prices.csv\")\n",
    "\n",
    "reality = sample_df[\"Adj Close\"]\n",
    "date = sample_df[\"Date\"]\n",
    "data.extend(transform_data(\"Keep\", date, reality, predict_keep(reality, 0)))\n",
    "data.extend(transform_data(\"Inflate 0.05%\", date, reality,  predict_keep(reality, 0.0005)))\n",
    "data.extend(transform_data(\"Keep_Momentum_1\", date, reality,  predict_keep_momentum(reality, 1)))\n",
    "data.extend(transform_data(\"Keep_Momentum_5\", date, reality,  predict_keep_momentum(reality, 5)))\n",
    "data.extend(transform_data(\"Keep_Momentum_20\", date, reality,  predict_keep_momentum(reality, 20)))\n",
    "data.extend(transform_data(\"Up_Momentum_1\", date, reality,  predict_up_momentum(reality, 1)))\n",
    "data.extend(transform_data(\"Up_Momentum_5\", date, reality,  predict_up_momentum(reality, 5)))\n",
    "data.extend(transform_data(\"Up_Momentum_20\", date, reality,  predict_up_momentum(reality, 20)))\n",
    "data.extend(transform_data(\"Rnd_Momentum_1\", date, reality,  predict_rnd_momentum(reality, 1)))\n",
    "data.extend(transform_data(\"Rnd_Momentum_5\", date, reality,  predict_rnd_momentum(reality, 5)))\n",
    "data.extend(transform_data(\"Rnd_Momentum_20\", date, reality,  predict_rnd_momentum(reality, 20)))\n",
    "data.extend(transform_data(\"Random\", date, reality,  predict_random(len(reality), min(reality), max(reality))))\n",
    "        \n",
    "df = pd.DataFrame(data).tail(-20) # Trim due to how predictions are made\n",
    "print(f\"Loaded {len(data)} records in time {time.time() - start}\")"
   ]
  },
  {
   "cell_type": "code",
   "execution_count": null,
   "id": "ddf51391-92b2-4870-bb0d-94fd0c19388e",
   "metadata": {
    "ExecuteTime": {
     "end_time": "2023-10-11T18:53:16.608773200Z",
     "start_time": "2023-10-11T18:53:14.854868Z"
    },
    "tags": []
   },
   "outputs": [],
   "source": [
    "# Execute this cell to make interactive atair graph with all the metrics for current wide-form DataFrame\n",
    "make_plot(df)"
   ]
  },
  {
   "cell_type": "code",
   "execution_count": null,
   "id": "018bb126-ee5e-44ef-8f37-6fcbc11bc0ea",
   "metadata": {
    "ExecuteTime": {
     "end_time": "2023-10-11T19:21:43.530966800Z",
     "start_time": "2023-10-11T19:21:43.408841400Z"
    },
    "tags": []
   },
   "outputs": [],
   "source": [
    "#  Execute this cell to show final statistics for all metrics for current wide-form DataFrame\n",
    "df[\"FormattedDate\"] = pd.to_datetime(df[\"Date\"])\n",
    "idx = df.groupby(df[\"Stock\"])[\"FormattedDate\"].idxmax()\n",
    "df_max = df.loc[idx]\n",
    "df_max.describe()"
   ]
  }
 ],
 "metadata": {
  "kernelspec": {
   "display_name": "Python 3 (ipykernel)",
   "language": "python",
   "name": "python3"
  },
  "language_info": {
   "codemirror_mode": {
    "name": "ipython",
    "version": 3
   },
   "file_extension": ".py",
   "mimetype": "text/x-python",
   "name": "python",
   "nbconvert_exporter": "python",
   "pygments_lexer": "ipython3",
   "version": "3.11.5"
  }
 },
 "nbformat": 4,
 "nbformat_minor": 5
}
