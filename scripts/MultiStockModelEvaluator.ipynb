{
 "cells": [
  {
   "cell_type": "code",
   "execution_count": null,
   "id": "0427561f-5f45-40e7-a563-20190566b856",
   "metadata": {
    "tags": []
   },
   "outputs": [],
   "source": [
    "# Graphing function definitions\n",
    "import os\n",
    "import json\n",
    "import time\n",
    "import numpy as np\n",
    "import pandas as pd\n",
    "import altair as alt\n",
    "alt.data_transformers.disable_max_rows()\n",
    "\n",
    "# Data loader routine into wide form\n",
    "# Date | Stock | Reality | Prediction | Delta | RMSE....\n",
    "def transform_data(stock, date, reality, prediction):\n",
    "    data = []\n",
    "    reality_series = pd.Series(reality)\n",
    "    reality_diff_series = reality_series.diff().shift(-1)\n",
    "    prediction_series = pd.Series(prediction)\n",
    "    prediction_diff_series = prediction_series.diff().shift(-1)\n",
    "    for i in range(1,len(date)):\n",
    "        reality_series_head = reality_series.head(i)\n",
    "        reality_diff_series_head = reality_diff_series.head(i)\n",
    "        prediction_series_head = prediction_series.head(i)\n",
    "        prediction_diff_series_head = prediction_diff_series.head(i)\n",
    "    \n",
    "        item = {\"Date\": date[i], \"Stock\": stock, \"Prediction\": prediction[i], \"Reality\": reality[i]}\n",
    "        item[\"Price Delta - Predicted\"] = prediction[i-1] - prediction[i]\n",
    "        item[\"Price Delta - Reality\"] = reality[i-1] - reality[i]\n",
    "        item[\"Price Delta (%) - Predicted\"] =  100*(prediction[i-1] - prediction[i])/prediction[i-1]\n",
    "        item[\"Price Delta (%) - Reality\"] = 100*(reality[i-1] - reality[i])/reality[i-1]\n",
    "        item[\"Prediction Error\"] = prediction[i] - reality[i]\n",
    "        item[\"Prediction Error (Abs)\"] = abs(prediction[i] - reality[i])\n",
    "        item[\"Prediction Error (Cummulative)\"] = sum([prediction[j] - reality[j] for j in range(i)])\n",
    "        item[\"Prediction Error (Abs Cummulative)\"] = sum([abs(prediction[j] - reality[j]) for j in range(i)])\n",
    "        item[\"Correlation (rolling)\"] = reality_series_head.corr(prediction_series_head) if i > 2 else None\n",
    "        item[\"Correlation (rolling) - of Deltas\"] = reality_diff_series_head.corr(prediction_diff_series_head) if i > 2 else None\n",
    "        item[\"MSE\"] = ((prediction_series_head - reality_series_head) ** 2).mean()\n",
    "        item[\"RMSE\"] = item[\"MSE\"] ** 0.5\n",
    "        item[\"RMSLE\"] = ((np.log10(1 + prediction_series_head) - np.log10(1 + reality_series_head)) ** 2).mean()\n",
    "        mse_model = ((prediction_series_head - reality_series_head) ** 2).mean()\n",
    "        mse_baseline = ((reality_series_head.mean() - reality_series_head) ** 2).mean()\n",
    "        item[\"R-Squared\"] = 1 - mse_model / mse_baseline if i > 2 else None\n",
    "        \n",
    "        data.append(item)\n",
    "    return data\n",
    "\n",
    "def make_plot(wide_df):\n",
    "    melted_df = df.copy().melt([\"Date\", \"Stock\"], var_name = \"Metric\", value_name = \"Value\")\n",
    "    melted_df[\"color_id\"] = melted_df[\"Stock\"] + \" - \" + melted_df[\"Metric\"]\n",
    "    chart_base = alt.Chart(melted_df)\n",
    "    \n",
    "    selector_class = alt.selection_point(fields=['Metric'])\n",
    "    chart_selector_class = chart_base.mark_bar().encode(\n",
    "            y = f\"Metric:N\",\n",
    "            color = alt.condition(selector_class, alt.value(\"red\"), alt.value(\"lightgray\"))\n",
    "        ).add_params(selector_class)\n",
    "    \n",
    "    selector_stock = alt.selection_point(fields=['Stock'])\n",
    "    chart_selector_stock = chart_base.mark_bar().encode(\n",
    "            x = f\"Stock:N\",\n",
    "            color = alt.condition(selector_stock, alt.value(\"red\"), alt.value(\"lightgray\"))\n",
    "        ).add_params(selector_stock)\n",
    "    \n",
    "    chart_plot = chart_base.mark_line().encode(\n",
    "            x = alt.X(\"Date\"),\n",
    "            y = alt.Y(\"Value\").scale(zero=False),\n",
    "            color = alt.Color(\"color_id\", legend = None),\n",
    "            tooltip = [\"Stock\", \"Metric\", \"Date\", \"Value\"]\n",
    "        ).transform_filter(selector_class).transform_filter(selector_stock).properties(width = 2048).interactive()\n",
    "    \n",
    "    chart_box = chart_base.mark_boxplot().encode(\n",
    "            x = alt.X(\"Stock\"),\n",
    "            column = alt.Column(\"Metric\"),\n",
    "            y = alt.Y(\"Value\").scale(zero=False),\n",
    "            color = alt.Color(\"color_id\", legend = None),\n",
    "        ).transform_filter(selector_class).transform_filter(selector_stock)\n",
    "    \n",
    "    return (chart_selector_stock & (chart_selector_class | chart_plot) & chart_box).configure(background='#BBBBBB')\n",
    "    "
   ]
  },
  {
   "cell_type": "code",
   "execution_count": null,
   "id": "4a179ff5-7478-4aee-a0db-46431d637c5f",
   "metadata": {
    "tags": []
   },
   "outputs": [],
   "source": [
    "# Load Data\n",
    "start = time.time()\n",
    "data = []\n",
    "for filename in os.listdir(\"../datasets/jse\"):\n",
    "    if filename.endswith(\"predicted\"):\n",
    "        path = os.path.join(\"../datasets/jse\", filename)\n",
    "        with open(path, \"r\") as infile:\n",
    "            loaded = json.load(infile)\n",
    "            data.extend(transform_data(filename[:5], loaded[\"Date\"], loaded[\"Reality\"], loaded[\"Prediction\"]))\n",
    "df = pd.DataFrame(data)\n",
    "print(time.time() - start)"
   ]
  },
  {
   "cell_type": "code",
   "execution_count": null,
   "id": "ddf51391-92b2-4870-bb0d-94fd0c19388e",
   "metadata": {
    "tags": []
   },
   "outputs": [],
   "source": [
    "make_plot(df)"
   ]
  }
 ],
 "metadata": {
  "kernelspec": {
   "display_name": "Python 3 (ipykernel)",
   "language": "python",
   "name": "python3"
  },
  "language_info": {
   "codemirror_mode": {
    "name": "ipython",
    "version": 3
   },
   "file_extension": ".py",
   "mimetype": "text/x-python",
   "name": "python",
   "nbconvert_exporter": "python",
   "pygments_lexer": "ipython3",
   "version": "3.11.5"
  }
 },
 "nbformat": 4,
 "nbformat_minor": 5
}
